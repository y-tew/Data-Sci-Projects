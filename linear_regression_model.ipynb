{
  "nbformat": 4,
  "nbformat_minor": 0,
  "metadata": {
    "colab": {
      "provenance": [],
      "include_colab_link": true
    },
    "kernelspec": {
      "name": "python3",
      "display_name": "Python 3"
    }
  },
  "cells": [
    {
      "cell_type": "markdown",
      "metadata": {
        "id": "view-in-github",
        "colab_type": "text"
      },
      "source": [
        "<a href=\"https://colab.research.google.com/github/y-tew/Data-Sci-Projects/blob/main/linear_regression_model.ipynb\" target=\"_parent\"><img src=\"https://colab.research.google.com/assets/colab-badge.svg\" alt=\"Open In Colab\"/></a>"
      ]
    },
    {
      "cell_type": "markdown",
      "metadata": {
        "id": "AdN_S7JylQDW"
      },
      "source": [
        "## **Load the Diabetes dataset** (via scikit-learn)"
      ]
    },
    {
      "cell_type": "markdown",
      "metadata": {
        "id": "f3Fi9yx3lfWn"
      },
      "source": [
        "### **Import library**"
      ]
    },
    {
      "cell_type": "code",
      "metadata": {
        "id": "0m-6K7IJlc2H"
      },
      "source": [
        "from sklearn import datasets"
      ],
      "execution_count": 1,
      "outputs": []
    },
    {
      "cell_type": "markdown",
      "metadata": {
        "id": "DXvpHcyHlh9m"
      },
      "source": [
        "### **Load dataset**"
      ]
    },
    {
      "cell_type": "code",
      "metadata": {
        "id": "fTNc6-A87v0-"
      },
      "source": [
        "diabetes = datasets.load_diabetes()"
      ],
      "execution_count": 2,
      "outputs": []
    },
    {
      "cell_type": "code",
      "metadata": {
        "id": "Vtp3Gq2K89SW",
        "outputId": "aab965b2-32f4-417a-f1ea-e5891029db9f",
        "colab": {
          "base_uri": "https://localhost:8080/"
        }
      },
      "source": [
        "diabetes"
      ],
      "execution_count": 3,
      "outputs": [
        {
          "output_type": "execute_result",
          "data": {
            "text/plain": [
              "{'data': array([[ 0.03807591,  0.05068012,  0.06169621, ..., -0.00259226,\n",
              "          0.01990842, -0.01764613],\n",
              "        [-0.00188202, -0.04464164, -0.05147406, ..., -0.03949338,\n",
              "         -0.06832974, -0.09220405],\n",
              "        [ 0.08529891,  0.05068012,  0.04445121, ..., -0.00259226,\n",
              "          0.00286377, -0.02593034],\n",
              "        ...,\n",
              "        [ 0.04170844,  0.05068012, -0.01590626, ..., -0.01107952,\n",
              "         -0.04687948,  0.01549073],\n",
              "        [-0.04547248, -0.04464164,  0.03906215, ...,  0.02655962,\n",
              "          0.04452837, -0.02593034],\n",
              "        [-0.04547248, -0.04464164, -0.0730303 , ..., -0.03949338,\n",
              "         -0.00421986,  0.00306441]]),\n",
              " 'target': array([151.,  75., 141., 206., 135.,  97., 138.,  63., 110., 310., 101.,\n",
              "         69., 179., 185., 118., 171., 166., 144.,  97., 168.,  68.,  49.,\n",
              "         68., 245., 184., 202., 137.,  85., 131., 283., 129.,  59., 341.,\n",
              "         87.,  65., 102., 265., 276., 252.,  90., 100.,  55.,  61.,  92.,\n",
              "        259.,  53., 190., 142.,  75., 142., 155., 225.,  59., 104., 182.,\n",
              "        128.,  52.,  37., 170., 170.,  61., 144.,  52., 128.,  71., 163.,\n",
              "        150.,  97., 160., 178.,  48., 270., 202., 111.,  85.,  42., 170.,\n",
              "        200., 252., 113., 143.,  51.,  52., 210.,  65., 141.,  55., 134.,\n",
              "         42., 111.,  98., 164.,  48.,  96.,  90., 162., 150., 279.,  92.,\n",
              "         83., 128., 102., 302., 198.,  95.,  53., 134., 144., 232.,  81.,\n",
              "        104.,  59., 246., 297., 258., 229., 275., 281., 179., 200., 200.,\n",
              "        173., 180.,  84., 121., 161.,  99., 109., 115., 268., 274., 158.,\n",
              "        107.,  83., 103., 272.,  85., 280., 336., 281., 118., 317., 235.,\n",
              "         60., 174., 259., 178., 128.,  96., 126., 288.,  88., 292.,  71.,\n",
              "        197., 186.,  25.,  84.,  96., 195.,  53., 217., 172., 131., 214.,\n",
              "         59.,  70., 220., 268., 152.,  47.,  74., 295., 101., 151., 127.,\n",
              "        237., 225.,  81., 151., 107.,  64., 138., 185., 265., 101., 137.,\n",
              "        143., 141.,  79., 292., 178.,  91., 116.,  86., 122.,  72., 129.,\n",
              "        142.,  90., 158.,  39., 196., 222., 277.,  99., 196., 202., 155.,\n",
              "         77., 191.,  70.,  73.,  49.,  65., 263., 248., 296., 214., 185.,\n",
              "         78.,  93., 252., 150.,  77., 208.,  77., 108., 160.,  53., 220.,\n",
              "        154., 259.,  90., 246., 124.,  67.,  72., 257., 262., 275., 177.,\n",
              "         71.,  47., 187., 125.,  78.,  51., 258., 215., 303., 243.,  91.,\n",
              "        150., 310., 153., 346.,  63.,  89.,  50.,  39., 103., 308., 116.,\n",
              "        145.,  74.,  45., 115., 264.,  87., 202., 127., 182., 241.,  66.,\n",
              "         94., 283.,  64., 102., 200., 265.,  94., 230., 181., 156., 233.,\n",
              "         60., 219.,  80.,  68., 332., 248.,  84., 200.,  55.,  85.,  89.,\n",
              "         31., 129.,  83., 275.,  65., 198., 236., 253., 124.,  44., 172.,\n",
              "        114., 142., 109., 180., 144., 163., 147.,  97., 220., 190., 109.,\n",
              "        191., 122., 230., 242., 248., 249., 192., 131., 237.,  78., 135.,\n",
              "        244., 199., 270., 164.,  72.,  96., 306.,  91., 214.,  95., 216.,\n",
              "        263., 178., 113., 200., 139., 139.,  88., 148.,  88., 243.,  71.,\n",
              "         77., 109., 272.,  60.,  54., 221.,  90., 311., 281., 182., 321.,\n",
              "         58., 262., 206., 233., 242., 123., 167.,  63., 197.,  71., 168.,\n",
              "        140., 217., 121., 235., 245.,  40.,  52., 104., 132.,  88.,  69.,\n",
              "        219.,  72., 201., 110.,  51., 277.,  63., 118.,  69., 273., 258.,\n",
              "         43., 198., 242., 232., 175.,  93., 168., 275., 293., 281.,  72.,\n",
              "        140., 189., 181., 209., 136., 261., 113., 131., 174., 257.,  55.,\n",
              "         84.,  42., 146., 212., 233.,  91., 111., 152., 120.,  67., 310.,\n",
              "         94., 183.,  66., 173.,  72.,  49.,  64.,  48., 178., 104., 132.,\n",
              "        220.,  57.]),\n",
              " 'frame': None,\n",
              " 'DESCR': '.. _diabetes_dataset:\\n\\nDiabetes dataset\\n----------------\\n\\nTen baseline variables, age, sex, body mass index, average blood\\npressure, and six blood serum measurements were obtained for each of n =\\n442 diabetes patients, as well as the response of interest, a\\nquantitative measure of disease progression one year after baseline.\\n\\n**Data Set Characteristics:**\\n\\n  :Number of Instances: 442\\n\\n  :Number of Attributes: First 10 columns are numeric predictive values\\n\\n  :Target: Column 11 is a quantitative measure of disease progression one year after baseline\\n\\n  :Attribute Information:\\n      - age     age in years\\n      - sex\\n      - bmi     body mass index\\n      - bp      average blood pressure\\n      - s1      tc, total serum cholesterol\\n      - s2      ldl, low-density lipoproteins\\n      - s3      hdl, high-density lipoproteins\\n      - s4      tch, total cholesterol / HDL\\n      - s5      ltg, possibly log of serum triglycerides level\\n      - s6      glu, blood sugar level\\n\\nNote: Each of these 10 feature variables have been mean centered and scaled by the standard deviation times `n_samples` (i.e. the sum of squares of each column totals 1).\\n\\nSource URL:\\nhttps://www4.stat.ncsu.edu/~boos/var.select/diabetes.html\\n\\nFor more information see:\\nBradley Efron, Trevor Hastie, Iain Johnstone and Robert Tibshirani (2004) \"Least Angle Regression,\" Annals of Statistics (with discussion), 407-499.\\n(https://web.stanford.edu/~hastie/Papers/LARS/LeastAngle_2002.pdf)',\n",
              " 'feature_names': ['age',\n",
              "  'sex',\n",
              "  'bmi',\n",
              "  'bp',\n",
              "  's1',\n",
              "  's2',\n",
              "  's3',\n",
              "  's4',\n",
              "  's5',\n",
              "  's6'],\n",
              " 'data_filename': 'diabetes_data.csv.gz',\n",
              " 'target_filename': 'diabetes_target.csv.gz',\n",
              " 'data_module': 'sklearn.datasets.data'}"
            ]
          },
          "metadata": {},
          "execution_count": 3
        }
      ]
    },
    {
      "cell_type": "markdown",
      "metadata": {
        "id": "7XNtaeRS8roJ"
      },
      "source": [
        "### **Description of the Diabetes dataset**"
      ]
    },
    {
      "cell_type": "code",
      "metadata": {
        "id": "tkRC3-5m8aW2",
        "outputId": "de5b1aaf-1ae7-48a7-ad24-83e2ea5eac97",
        "colab": {
          "base_uri": "https://localhost:8080/"
        }
      },
      "source": [
        "print(diabetes.DESCR) "
      ],
      "execution_count": 4,
      "outputs": [
        {
          "output_type": "stream",
          "name": "stdout",
          "text": [
            ".. _diabetes_dataset:\n",
            "\n",
            "Diabetes dataset\n",
            "----------------\n",
            "\n",
            "Ten baseline variables, age, sex, body mass index, average blood\n",
            "pressure, and six blood serum measurements were obtained for each of n =\n",
            "442 diabetes patients, as well as the response of interest, a\n",
            "quantitative measure of disease progression one year after baseline.\n",
            "\n",
            "**Data Set Characteristics:**\n",
            "\n",
            "  :Number of Instances: 442\n",
            "\n",
            "  :Number of Attributes: First 10 columns are numeric predictive values\n",
            "\n",
            "  :Target: Column 11 is a quantitative measure of disease progression one year after baseline\n",
            "\n",
            "  :Attribute Information:\n",
            "      - age     age in years\n",
            "      - sex\n",
            "      - bmi     body mass index\n",
            "      - bp      average blood pressure\n",
            "      - s1      tc, total serum cholesterol\n",
            "      - s2      ldl, low-density lipoproteins\n",
            "      - s3      hdl, high-density lipoproteins\n",
            "      - s4      tch, total cholesterol / HDL\n",
            "      - s5      ltg, possibly log of serum triglycerides level\n",
            "      - s6      glu, blood sugar level\n",
            "\n",
            "Note: Each of these 10 feature variables have been mean centered and scaled by the standard deviation times `n_samples` (i.e. the sum of squares of each column totals 1).\n",
            "\n",
            "Source URL:\n",
            "https://www4.stat.ncsu.edu/~boos/var.select/diabetes.html\n",
            "\n",
            "For more information see:\n",
            "Bradley Efron, Trevor Hastie, Iain Johnstone and Robert Tibshirani (2004) \"Least Angle Regression,\" Annals of Statistics (with discussion), 407-499.\n",
            "(https://web.stanford.edu/~hastie/Papers/LARS/LeastAngle_2002.pdf)\n"
          ]
        }
      ]
    },
    {
      "cell_type": "markdown",
      "metadata": {
        "id": "HtlSG5M187YC"
      },
      "source": [
        "### **Feature names**"
      ]
    },
    {
      "cell_type": "code",
      "metadata": {
        "id": "GMeRYgLK8xjS",
        "outputId": "832346ca-684e-492b-9fac-8e33ece577fb",
        "colab": {
          "base_uri": "https://localhost:8080/"
        }
      },
      "source": [
        "print(diabetes.feature_names)"
      ],
      "execution_count": 5,
      "outputs": [
        {
          "output_type": "stream",
          "name": "stdout",
          "text": [
            "['age', 'sex', 'bmi', 'bp', 's1', 's2', 's3', 's4', 's5', 's6']\n"
          ]
        }
      ]
    },
    {
      "cell_type": "markdown",
      "metadata": {
        "id": "v_EPpc7U9fjN"
      },
      "source": [
        "### **Create X and Y data matrices**"
      ]
    },
    {
      "cell_type": "code",
      "metadata": {
        "id": "m66XE7uA9tEk"
      },
      "source": [
        "X = diabetes.data\n",
        "Y = diabetes.target "
      ],
      "execution_count": 6,
      "outputs": []
    },
    {
      "cell_type": "code",
      "metadata": {
        "id": "0ZHtE-if93Vw",
        "outputId": "62b216a6-db17-4096-ede6-82bf6afa566b",
        "colab": {
          "base_uri": "https://localhost:8080/"
        }
      },
      "source": [
        "X.shape, Y.shape"
      ],
      "execution_count": 7,
      "outputs": [
        {
          "output_type": "execute_result",
          "data": {
            "text/plain": [
              "((442, 10), (442,))"
            ]
          },
          "metadata": {},
          "execution_count": 7
        }
      ]
    },
    {
      "cell_type": "markdown",
      "metadata": {
        "id": "Ng_Jpsqh9tZK"
      },
      "source": [
        "### **Load dataset + Create X and Y data matrices (in 1 step)**"
      ]
    },
    {
      "cell_type": "code",
      "metadata": {
        "id": "HHYgXzyvjY-V"
      },
      "source": [
        "X, Y = datasets.load_diabetes(return_X_y=True)"
      ],
      "execution_count": 8,
      "outputs": []
    },
    {
      "cell_type": "code",
      "metadata": {
        "id": "3pjWOP3E-ioq",
        "outputId": "016a2752-c28c-4298-c782-316c72ab7ae7",
        "colab": {
          "base_uri": "https://localhost:8080/"
        }
      },
      "source": [
        "X.shape, Y.shape"
      ],
      "execution_count": 9,
      "outputs": [
        {
          "output_type": "execute_result",
          "data": {
            "text/plain": [
              "((442, 10), (442,))"
            ]
          },
          "metadata": {},
          "execution_count": 9
        }
      ]
    },
    {
      "cell_type": "markdown",
      "metadata": {
        "id": "y5wMVRtpkvo2"
      },
      "source": [
        "## **Data split**"
      ]
    },
    {
      "cell_type": "markdown",
      "metadata": {
        "id": "a2FdlRkWlGhd"
      },
      "source": [
        "### **Import library**"
      ]
    },
    {
      "cell_type": "code",
      "metadata": {
        "id": "-loRD7Chkx2u"
      },
      "source": [
        "from sklearn.model_selection import train_test_split"
      ],
      "execution_count": 10,
      "outputs": []
    },
    {
      "cell_type": "markdown",
      "metadata": {
        "id": "5u43h3GllJL5"
      },
      "source": [
        "### **Perform 80/20 Data split**"
      ]
    },
    {
      "cell_type": "code",
      "metadata": {
        "id": "DCkW1c_fk0ZB"
      },
      "source": [
        "X_train, X_test, Y_train, Y_test = train_test_split(X, Y, test_size=0.2)"
      ],
      "execution_count": 11,
      "outputs": []
    },
    {
      "cell_type": "markdown",
      "metadata": {
        "id": "3KraL05hlAlF"
      },
      "source": [
        "### **Data dimension**"
      ]
    },
    {
      "cell_type": "code",
      "metadata": {
        "id": "wRle727Kk5zD",
        "outputId": "77cfa861-f8cf-4390-8339-e9d6b6b6ad76",
        "colab": {
          "base_uri": "https://localhost:8080/"
        }
      },
      "source": [
        "X_train.shape, Y_train.shape"
      ],
      "execution_count": 12,
      "outputs": [
        {
          "output_type": "execute_result",
          "data": {
            "text/plain": [
              "((353, 10), (353,))"
            ]
          },
          "metadata": {},
          "execution_count": 12
        }
      ]
    },
    {
      "cell_type": "code",
      "metadata": {
        "id": "eYuH1K2Dk_2r",
        "outputId": "1a306da8-8044-42f0-bc4e-34f645fba8da",
        "colab": {
          "base_uri": "https://localhost:8080/"
        }
      },
      "source": [
        "X_test.shape, Y_test.shape"
      ],
      "execution_count": 13,
      "outputs": [
        {
          "output_type": "execute_result",
          "data": {
            "text/plain": [
              "((89, 10), (89,))"
            ]
          },
          "metadata": {},
          "execution_count": 13
        }
      ]
    },
    {
      "cell_type": "markdown",
      "metadata": {
        "id": "ftLHUDWWmAyC"
      },
      "source": [
        "## **Linear Regression Model**"
      ]
    },
    {
      "cell_type": "markdown",
      "metadata": {
        "id": "u20GkslXmLm8"
      },
      "source": [
        "### **Import library**"
      ]
    },
    {
      "cell_type": "code",
      "metadata": {
        "id": "7ZQh8TtjmDwi"
      },
      "source": [
        "from sklearn import linear_model\n",
        "from sklearn.metrics import mean_squared_error, r2_score"
      ],
      "execution_count": 14,
      "outputs": []
    },
    {
      "cell_type": "markdown",
      "metadata": {
        "id": "vCYTGIh1KSvo"
      },
      "source": [
        "### **Build linear regression**"
      ]
    },
    {
      "cell_type": "markdown",
      "metadata": {
        "id": "S2DWBNumCnBY"
      },
      "source": [
        "#### Defines the regression model"
      ]
    },
    {
      "cell_type": "code",
      "metadata": {
        "id": "0mUdKcftmYKC"
      },
      "source": [
        "model = linear_model.LinearRegression()"
      ],
      "execution_count": 15,
      "outputs": []
    },
    {
      "cell_type": "markdown",
      "metadata": {
        "id": "6AVIFWcbCw6p"
      },
      "source": [
        "#### Build training model"
      ]
    },
    {
      "cell_type": "code",
      "metadata": {
        "id": "Fv-a-toQmc0c",
        "outputId": "4427f0f2-6cbe-4c14-83b0-dfbd56a01200",
        "colab": {
          "base_uri": "https://localhost:8080/"
        }
      },
      "source": [
        "model.fit(X_train, Y_train)"
      ],
      "execution_count": 16,
      "outputs": [
        {
          "output_type": "execute_result",
          "data": {
            "text/plain": [
              "LinearRegression()"
            ]
          },
          "metadata": {},
          "execution_count": 16
        }
      ]
    },
    {
      "cell_type": "markdown",
      "metadata": {
        "id": "OVfa9YhYC2lD"
      },
      "source": [
        "#### Apply trained model to make prediction (on test set)"
      ]
    },
    {
      "cell_type": "code",
      "metadata": {
        "id": "Ceqli7YtmkM9"
      },
      "source": [
        "Y_pred = model.predict(X_test)"
      ],
      "execution_count": 17,
      "outputs": []
    },
    {
      "cell_type": "markdown",
      "metadata": {
        "id": "kOgx7y7wLiW-"
      },
      "source": [
        "## **Prediction results**"
      ]
    },
    {
      "cell_type": "markdown",
      "metadata": {
        "id": "eNj5NwDnC91W"
      },
      "source": [
        "### **Print model performance**"
      ]
    },
    {
      "cell_type": "code",
      "metadata": {
        "id": "hQPfL1nkmvxb",
        "outputId": "002c0b82-130c-4a0e-c81c-b5553eb49490",
        "colab": {
          "base_uri": "https://localhost:8080/"
        }
      },
      "source": [
        "print('Coefficients:', model.coef_)\n",
        "print('Intercept:', model.intercept_)\n",
        "print('Mean squared error (MSE): %.2f'\n",
        "      % mean_squared_error(Y_test, Y_pred))\n",
        "print('Coefficient of determination (R^2): %.2f'\n",
        "      % r2_score(Y_test, Y_pred))"
      ],
      "execution_count": 18,
      "outputs": [
        {
          "output_type": "stream",
          "name": "stdout",
          "text": [
            "Coefficients: [  25.85274957 -211.69100855  509.49144259  313.58681619 -718.37532633\n",
            "  362.54092209   95.45136624  247.67404284  677.14051466  107.68154807]\n",
            "Intercept: 151.98098090501995\n",
            "Mean squared error (MSE): 2316.45\n",
            "Coefficient of determination (R^2): 0.60\n"
          ]
        }
      ]
    },
    {
      "cell_type": "code",
      "source": [
        "print(diabetes.feature_names)"
      ],
      "metadata": {
        "id": "SUprY_DUqcIi",
        "outputId": "b3ddc456-cf7d-41a9-a1d5-faf9673bcf6e",
        "colab": {
          "base_uri": "https://localhost:8080/"
        }
      },
      "execution_count": 19,
      "outputs": [
        {
          "output_type": "stream",
          "name": "stdout",
          "text": [
            "['age', 'sex', 'bmi', 'bp', 's1', 's2', 's3', 's4', 's5', 's6']\n"
          ]
        }
      ]
    },
    {
      "cell_type": "markdown",
      "metadata": {
        "id": "ukQ1MFxzDNc2"
      },
      "source": [
        "### **String formatting**"
      ]
    },
    {
      "cell_type": "markdown",
      "metadata": {
        "id": "MLeShbUDDTe7"
      },
      "source": [
        "By default r2_score returns a floating number ([more details](https://docs.scipy.org/doc/numpy-1.13.0/user/basics.types.html))"
      ]
    },
    {
      "cell_type": "code",
      "metadata": {
        "id": "vXc3Zh9rDZDr",
        "outputId": "6327587e-d08b-4861-9888-369c347f9a88",
        "colab": {
          "base_uri": "https://localhost:8080/"
        }
      },
      "source": [
        "r2_score(Y_test, Y_pred)"
      ],
      "execution_count": 20,
      "outputs": [
        {
          "output_type": "execute_result",
          "data": {
            "text/plain": [
              "0.5966020322021116"
            ]
          },
          "metadata": {},
          "execution_count": 20
        }
      ]
    },
    {
      "cell_type": "code",
      "metadata": {
        "id": "p4dYm1msDa8y",
        "outputId": "5f961033-7371-4d13-b5d4-8c71936e3837",
        "colab": {
          "base_uri": "https://localhost:8080/"
        }
      },
      "source": [
        "r2_score(Y_test, Y_pred).dtype"
      ],
      "execution_count": 21,
      "outputs": [
        {
          "output_type": "execute_result",
          "data": {
            "text/plain": [
              "dtype('float64')"
            ]
          },
          "metadata": {},
          "execution_count": 21
        }
      ]
    },
    {
      "cell_type": "markdown",
      "metadata": {
        "id": "HvlQcuhIEC13"
      },
      "source": [
        "We will be using the modulo operator to format the numbers by rounding it off."
      ]
    },
    {
      "cell_type": "code",
      "metadata": {
        "id": "cl_B_EBYFx4L",
        "outputId": "05c52b3b-cfc3-4e6b-8e97-26b7aa80c107",
        "colab": {
          "base_uri": "https://localhost:8080/",
          "height": 35
        }
      },
      "source": [
        "'%f' % 0.523810833536016"
      ],
      "execution_count": 22,
      "outputs": [
        {
          "output_type": "execute_result",
          "data": {
            "text/plain": [
              "'0.523811'"
            ],
            "application/vnd.google.colaboratory.intrinsic+json": {
              "type": "string"
            }
          },
          "metadata": {},
          "execution_count": 22
        }
      ]
    },
    {
      "cell_type": "markdown",
      "metadata": {
        "id": "coHGJ_CrG5mY"
      },
      "source": [
        "We will now round it off to 3 digits"
      ]
    },
    {
      "cell_type": "code",
      "metadata": {
        "id": "WXv_MDhVF0zN",
        "outputId": "2af853f6-17fa-42a4-928c-65028cf9c4fb",
        "colab": {
          "base_uri": "https://localhost:8080/",
          "height": 35
        }
      },
      "source": [
        "'%.3f' % 0.523810833536016"
      ],
      "execution_count": 23,
      "outputs": [
        {
          "output_type": "execute_result",
          "data": {
            "text/plain": [
              "'0.524'"
            ],
            "application/vnd.google.colaboratory.intrinsic+json": {
              "type": "string"
            }
          },
          "metadata": {},
          "execution_count": 23
        }
      ]
    },
    {
      "cell_type": "markdown",
      "metadata": {
        "id": "4tvESBrSHBcs"
      },
      "source": [
        "We will now round it off to 2 digits"
      ]
    },
    {
      "cell_type": "code",
      "metadata": {
        "id": "mmT1UMUaHHnw",
        "outputId": "a2010164-b43f-45e7-e555-d684dd7b0574",
        "colab": {
          "base_uri": "https://localhost:8080/",
          "height": 35
        }
      },
      "source": [
        "'%.2f' % 0.523810833536016"
      ],
      "execution_count": 24,
      "outputs": [
        {
          "output_type": "execute_result",
          "data": {
            "text/plain": [
              "'0.52'"
            ],
            "application/vnd.google.colaboratory.intrinsic+json": {
              "type": "string"
            }
          },
          "metadata": {},
          "execution_count": 24
        }
      ]
    },
    {
      "cell_type": "markdown",
      "metadata": {
        "id": "bmL8ZSOTKYDw"
      },
      "source": [
        "## **Scatter plots**"
      ]
    },
    {
      "cell_type": "markdown",
      "metadata": {
        "id": "_Mi1ipCJPczT"
      },
      "source": [
        "### **Import library**"
      ]
    },
    {
      "cell_type": "code",
      "metadata": {
        "id": "JDh3jorMKd8Q"
      },
      "source": [
        "import seaborn as sns"
      ],
      "execution_count": 25,
      "outputs": []
    },
    {
      "cell_type": "markdown",
      "metadata": {
        "id": "pxD1MIXdPepK"
      },
      "source": [
        "### **Make scatter plot**"
      ]
    },
    {
      "cell_type": "markdown",
      "metadata": {
        "id": "0DbZGw8sI4jR"
      },
      "source": [
        "#### The Data"
      ]
    },
    {
      "cell_type": "code",
      "metadata": {
        "id": "8xBzmCpaJEBB",
        "outputId": "2baba249-0c8d-4b7d-e684-460a45f4d1af",
        "colab": {
          "base_uri": "https://localhost:8080/"
        }
      },
      "source": [
        "Y_test"
      ],
      "execution_count": 26,
      "outputs": [
        {
          "output_type": "execute_result",
          "data": {
            "text/plain": [
              "array([ 51., 206., 257., 129.,  73.,  64.,  94., 302., 225.,  39.,  87.,\n",
              "       129., 103.,  91.,  71., 230., 111.,  72., 110., 146., 168., 121.,\n",
              "        63., 143., 132., 141.,  85., 122., 151.,  49., 170., 248.,  79.,\n",
              "       155., 232., 185., 104.,  53.,  40., 281., 158., 164., 263., 131.,\n",
              "        71., 261.,  57., 101., 215.,  52., 162., 310., 243.,  66., 259.,\n",
              "        97., 293., 127.,  84., 280.,  72., 258., 185.,  59.,  63., 182.,\n",
              "       217., 167., 196.,  59., 248.,  72.,  65., 163., 144., 245., 184.,\n",
              "        90., 180., 237.,  60., 145., 258., 220., 296., 161., 190., 242.,\n",
              "       185.])"
            ]
          },
          "metadata": {},
          "execution_count": 26
        }
      ]
    },
    {
      "cell_type": "code",
      "metadata": {
        "id": "UPwtR8XsKYoE",
        "outputId": "38253360-40e0-41e9-909d-bde4f4eb34cc",
        "colab": {
          "base_uri": "https://localhost:8080/"
        }
      },
      "source": [
        "import numpy as np\n",
        "np.array(Y_test)"
      ],
      "execution_count": 27,
      "outputs": [
        {
          "output_type": "execute_result",
          "data": {
            "text/plain": [
              "array([ 51., 206., 257., 129.,  73.,  64.,  94., 302., 225.,  39.,  87.,\n",
              "       129., 103.,  91.,  71., 230., 111.,  72., 110., 146., 168., 121.,\n",
              "        63., 143., 132., 141.,  85., 122., 151.,  49., 170., 248.,  79.,\n",
              "       155., 232., 185., 104.,  53.,  40., 281., 158., 164., 263., 131.,\n",
              "        71., 261.,  57., 101., 215.,  52., 162., 310., 243.,  66., 259.,\n",
              "        97., 293., 127.,  84., 280.,  72., 258., 185.,  59.,  63., 182.,\n",
              "       217., 167., 196.,  59., 248.,  72.,  65., 163., 144., 245., 184.,\n",
              "        90., 180., 237.,  60., 145., 258., 220., 296., 161., 190., 242.,\n",
              "       185.])"
            ]
          },
          "metadata": {},
          "execution_count": 27
        }
      ]
    },
    {
      "cell_type": "code",
      "metadata": {
        "id": "U8UAehGlJIeS",
        "outputId": "31cff8b7-2b78-4f3f-c360-f272760045ca",
        "colab": {
          "base_uri": "https://localhost:8080/"
        }
      },
      "source": [
        "Y_pred"
      ],
      "execution_count": 28,
      "outputs": [
        {
          "output_type": "execute_result",
          "data": {
            "text/plain": [
              "array([ 74.68275715, 161.44402315, 224.18440979, 153.76494468,\n",
              "       150.68110275,  87.84900649,  97.13136497, 142.90267476,\n",
              "       172.05204949,  72.06930931,  86.87069787, 110.88718144,\n",
              "       130.24050015,  90.55361399,  87.00074098, 139.65228614,\n",
              "       125.69669134, 110.6039381 , 162.29556474, 143.66815519,\n",
              "       118.79072285, 166.90713617,  58.76801045,  63.95931713,\n",
              "       126.2496859 , 149.57603907, 149.34963061, 187.39817821,\n",
              "       206.47044266, 131.01066389, 103.58110504, 196.90247183,\n",
              "       115.03473789, 157.77805905, 189.44498842, 163.99631665,\n",
              "       103.33120469,  79.62759723, 138.99529192, 284.55915693,\n",
              "        63.62692225, 185.19282996, 265.23186377, 161.24490821,\n",
              "       119.43263484, 234.98872396,  51.72407898,  93.68438023,\n",
              "       239.8870008 , 173.80049281, 122.26590577, 262.29550495,\n",
              "       251.37026765, 127.13605023, 232.72206523, 107.4096927 ,\n",
              "       195.92330946, 167.32561872, 179.67903077, 231.47225266,\n",
              "        68.18070656, 230.00289884, 140.93614704,  78.22029912,\n",
              "        55.69108497, 144.43009581, 230.02221728, 183.82608397,\n",
              "       161.74499249, 129.33579579, 229.23074758,  46.31391753,\n",
              "        51.26588583, 190.70806471, 183.37539349, 262.77130481,\n",
              "       161.15628105,  53.18582763, 173.89912318, 222.33562189,\n",
              "       114.28774384, 127.24883958, 164.567037  , 164.01994464,\n",
              "       219.4273282 , 188.2058007 , 172.1030522 , 290.91389985,\n",
              "       161.81212143])"
            ]
          },
          "metadata": {},
          "execution_count": 28
        }
      ]
    },
    {
      "cell_type": "markdown",
      "metadata": {
        "id": "XEa9vmBjI8Bd"
      },
      "source": [
        "#### Making the scatter plot"
      ]
    },
    {
      "cell_type": "code",
      "metadata": {
        "id": "Wuig81bSKgGN",
        "outputId": "0c006583-910d-4aec-d408-25e69bee3ce2",
        "colab": {
          "base_uri": "https://localhost:8080/",
          "height": 339
        }
      },
      "source": [
        "sns.scatterplot(Y_test, Y_pred)"
      ],
      "execution_count": 29,
      "outputs": [
        {
          "output_type": "stream",
          "name": "stderr",
          "text": [
            "/usr/local/lib/python3.8/dist-packages/seaborn/_decorators.py:36: FutureWarning: Pass the following variables as keyword args: x, y. From version 0.12, the only valid positional argument will be `data`, and passing other arguments without an explicit keyword will result in an error or misinterpretation.\n",
            "  warnings.warn(\n"
          ]
        },
        {
          "output_type": "execute_result",
          "data": {
            "text/plain": [
              "<matplotlib.axes._subplots.AxesSubplot at 0x7ff230452f70>"
            ]
          },
          "metadata": {},
          "execution_count": 29
        },
        {
          "output_type": "display_data",
          "data": {
            "text/plain": [
              "<Figure size 432x288 with 1 Axes>"
            ],
            "image/png": "[encoded data removed]"
          },
          "metadata": {
            "needs_background": "light"
          }
        }
      ]
    },
    {
      "cell_type": "code",
      "metadata": {
        "id": "34PEHdfwPv8X",
        "outputId": "79d848ad-e391-4251-fcd5-2bceeb47294f",
        "colab": {
          "base_uri": "https://localhost:8080/",
          "height": 339
        }
      },
      "source": [
        "sns.scatterplot(Y_test, Y_pred, marker=\"+\")"
      ],
      "execution_count": 30,
      "outputs": [
        {
          "output_type": "stream",
          "name": "stderr",
          "text": [
            "/usr/local/lib/python3.8/dist-packages/seaborn/_decorators.py:36: FutureWarning: Pass the following variables as keyword args: x, y. From version 0.12, the only valid positional argument will be `data`, and passing other arguments without an explicit keyword will result in an error or misinterpretation.\n",
            "  warnings.warn(\n"
          ]
        },
        {
          "output_type": "execute_result",
          "data": {
            "text/plain": [
              "<matplotlib.axes._subplots.AxesSubplot at 0x7ff230349af0>"
            ]
          },
          "metadata": {},
          "execution_count": 30
        },
        {
          "output_type": "display_data",
          "data": {
            "text/plain": [
              "<Figure size 432x288 with 1 Axes>"
            ],
            "image/png": "[encoded data removed]"
          },
          "metadata": {
            "needs_background": "light"
          }
        }
      ]
    },
    {
      "cell_type": "code",
      "metadata": {
        "id": "kPgBVuuOQ4IQ",
        "outputId": "26d6444c-d164-4e77-c930-770a671c345f",
        "colab": {
          "base_uri": "https://localhost:8080/",
          "height": 339
        }
      },
      "source": [
        "sns.scatterplot(Y_test, Y_pred, alpha=1)"
      ],
      "execution_count": 31,
      "outputs": [
        {
          "output_type": "stream",
          "name": "stderr",
          "text": [
            "/usr/local/lib/python3.8/dist-packages/seaborn/_decorators.py:36: FutureWarning: Pass the following variables as keyword args: x, y. From version 0.12, the only valid positional argument will be `data`, and passing other arguments without an explicit keyword will result in an error or misinterpretation.\n",
            "  warnings.warn(\n"
          ]
        },
        {
          "output_type": "execute_result",
          "data": {
            "text/plain": [
              "<matplotlib.axes._subplots.AxesSubplot at 0x7ff22fed2a30>"
            ]
          },
          "metadata": {},
          "execution_count": 31
        },
        {
          "output_type": "display_data",
          "data": {
            "text/plain": [
              "<Figure size 432x288 with 1 Axes>"
            ],
            "image/png": "[encoded data removed]"
          },
          "metadata": {
            "needs_background": "light"
          }
        }
      ]
    },
    {
      "cell_type": "code",
      "metadata": {
        "id": "5VLUdcQSIebl"
      },
      "source": [],
      "execution_count": null,
      "outputs": []
    }
  ]
}